{
 "cells": [
  {
   "cell_type": "markdown",
   "metadata": {},
   "source": [
    "### Import modules"
   ]
  },
  {
   "cell_type": "code",
   "execution_count": null,
   "metadata": {},
   "outputs": [],
   "source": [
    "import numpy as np\n",
    "import pandas as pd\n",
    "import matplotlib.pyplot as plt\n",
    "import seaborn as sns\n",
    "import datetime as dt\n",
    "import os.path,sys\n",
    "%matplotlib inline"
   ]
  },
  {
   "cell_type": "code",
   "execution_count": null,
   "metadata": {
    "scrolled": true
   },
   "outputs": [],
   "source": [
    "# Load telecom data file\n",
    "telecom_orig = pd.read_csv('telecom_churn_data.csv', low_memory=False)\n",
    "telecom_orig.head()"
   ]
  },
  {
   "cell_type": "code",
   "execution_count": null,
   "metadata": {},
   "outputs": [],
   "source": [
    "# Understand the properties of loaded dataframe\n",
    "print('Dataframe Shape: ', telecom_orig.shape);\n",
    "print(\"Dataframe Info: \\n\"); telecom_orig.info();\n",
    "telecom_orig.head(5)"
   ]
  },
  {
   "cell_type": "markdown",
   "metadata": {},
   "source": [
    "### Step1: Data cleanup and imputation"
   ]
  },
  {
   "cell_type": "code",
   "execution_count": null,
   "metadata": {},
   "outputs": [],
   "source": []
  },
  {
   "cell_type": "code",
   "execution_count": null,
   "metadata": {},
   "outputs": [],
   "source": [
    "# Drop columns that are not relevant\n",
    "telecom_orig = telecom_orig.drop([\n",
    "'last_date_of_month_7',\n",
    "'last_date_of_month_8',\n",
    "'last_date_of_month_9',\n",
    "'onnet_mou_6',\n",
    "'roam_ic_mou_6',\n",
    "'loc_og_t2t_mou_7',\n",
    "'loc_ic_t2t_mou_6',\n",
    "'spl_ic_mou_6',\n",
    "'night_pck_user_6',\n",
    "'fb_user_6',\n",
    "'onnet_mou_7',\n",
    "'roam_ic_mou_7',\n",
    "'loc_og_t2t_mou_8',\n",
    "'loc_ic_t2t_mou_7',\n",
    "'spl_ic_mou_7',\n",
    "'night_pck_user_7',\n",
    "'fb_user_7',\n",
    "'onnet_mou_8',\n",
    "'roam_ic_mou_8',\n",
    "'loc_og_t2t_mou_9',\n",
    "'loc_ic_t2t_mou_8',\n",
    "'spl_ic_mou_8',\n",
    "'night_pck_user_8',\n",
    "'fb_user_8',\n",
    "'onnet_mou_9',\n",
    "'roam_ic_mou_9',\n",
    "'loc_og_t2m_mou_6',\n",
    "'loc_ic_t2t_mou_9',\n",
    "'spl_ic_mou_9',\n",
    "'night_pck_user_9',\n",
    "'fb_user_9',\n",
    "'offnet_mou_6',\n",
    "'roam_og_mou_6',\n",
    "'loc_og_t2m_mou_7',\n",
    "'loc_ic_t2m_mou_6',\n",
    "'isd_ic_mou_6',\n",
    "'offnet_mou_7',\n",
    "'roam_og_mou_7',\n",
    "'loc_og_t2m_mou_8',\n",
    "'loc_ic_t2m_mou_7',\n",
    "'isd_ic_mou_7',\n",
    "'offnet_mou_8',\n",
    "'roam_og_mou_8',\n",
    "'loc_og_t2m_mou_9',\n",
    "'loc_ic_t2m_mou_8',\n",
    "'isd_ic_mou_8',\n",
    "'offnet_mou_9',\n",
    "'roam_og_mou_9',\n",
    "'loc_og_t2f_mou_6',\n",
    "'loc_ic_t2m_mou_9',\n",
    "'isd_ic_mou_9',\n",
    "'loc_og_t2f_mou_7',\n",
    "'loc_og_t2f_mou_8',\n",
    "'loc_og_t2f_mou_9',\n",
    "'loc_og_t2c_mou_6',\n",
    "'loc_og_t2c_mou_7',\n",
    "'loc_og_t2c_mou_8',\n",
    "'loc_og_t2c_mou_9',\n",
    "'loc_og_mou_6',\n",
    "'loc_og_mou_7',\n",
    "'loc_og_mou_8',\n",
    "'loc_og_mou_9',\n",
    "'std_og_t2t_mou_6',\n",
    "'std_og_t2t_mou_7',\n",
    "'std_og_t2t_mou_8',\n",
    "'std_og_t2t_mou_9',\n",
    "'std_og_t2m_mou_6',\n",
    "'std_og_t2m_mou_7',\n",
    "'std_og_t2m_mou_8',\n",
    "'std_og_t2m_mou_9',\n",
    "'std_og_t2f_mou_6',\n",
    "'std_og_t2f_mou_7',\n",
    "'std_og_t2f_mou_8',\n",
    "'std_og_t2f_mou_9',\n",
    "'std_og_t2c_mou_6',\n",
    "'std_og_t2c_mou_7',\n",
    "'std_og_t2c_mou_8',\n",
    "'std_og_t2c_mou_9',\n",
    "'std_og_mou_6',\n",
    "'std_og_mou_7',\n",
    "'std_og_mou_8',\n",
    "'std_og_mou_9',\n",
    "'isd_og_mou_6',\n",
    "'isd_og_mou_7',\n",
    "'isd_og_mou_8',\n",
    "'isd_og_mou_9',\n",
    "'spl_og_mou_6',\n",
    "'spl_og_mou_7',\n",
    "'spl_og_mou_8',\n",
    "'spl_og_mou_9',\n",
    "'og_others_6',\n",
    "'og_others_7',\n",
    "'og_others_8',\n",
    "'og_others_9',\n",
    "'loc_ic_t2f_mou_6',\n",
    "'loc_ic_t2f_mou_7',\n",
    "'loc_ic_t2f_mou_8',\n",
    "'loc_ic_t2f_mou_9',\n",
    "'loc_ic_mou_6',\n",
    "'loc_ic_mou_7',\n",
    "'loc_ic_mou_8',\n",
    "'loc_ic_mou_9',\n",
    "'std_ic_t2t_mou_6',\n",
    "'std_ic_t2t_mou_7',\n",
    "'std_ic_t2t_mou_8',\n",
    "'std_ic_t2t_mou_9',\n",
    "'std_ic_t2m_mou_6',\n",
    "'std_ic_t2m_mou_7',\n",
    "'std_ic_t2m_mou_8',\n",
    "'std_ic_t2m_mou_9',\n",
    "'std_ic_t2f_mou_6',\n",
    "'std_ic_t2f_mou_7',\n",
    "'std_ic_t2f_mou_8',\n",
    "'std_ic_t2f_mou_9',\n",
    "'std_ic_t2o_mou_6',\n",
    "'std_ic_t2o_mou_7',\n",
    "'std_ic_t2o_mou_8',\n",
    "'std_ic_t2o_mou_9',\n",
    "'std_ic_mou_6',\n",
    "'std_ic_mou_7',\n",
    "'std_ic_mou_8',\n",
    "'std_ic_mou_9',\n",
    "'ic_others_6',\n",
    "'ic_others_7',\n",
    "'ic_others_8', \n",
    "'last_date_of_month_6',\n",
    "'circle_id',\n",
    "'loc_og_t2o_mou','std_og_t2o_mou','loc_ic_t2o_mou', 'ic_others_9', 'loc_og_t2t_mou_6'\n",
    "], 1)\n"
   ]
  },
  {
   "cell_type": "code",
   "execution_count": null,
   "metadata": {},
   "outputs": [],
   "source": [
    "#Check the new shape\n",
    "telecom_orig.shape"
   ]
  },
  {
   "cell_type": "code",
   "execution_count": null,
   "metadata": {},
   "outputs": [],
   "source": [
    "## Check data types for columns\n",
    "telecom_orig.dtypes\n"
   ]
  },
  {
   "cell_type": "code",
   "execution_count": null,
   "metadata": {},
   "outputs": [],
   "source": [
    "## Explore how many null values are in each column of the dataset \n",
    "telecom_orig.isnull().sum()"
   ]
  },
  {
   "cell_type": "code",
   "execution_count": null,
   "metadata": {},
   "outputs": [],
   "source": [
    "#Check how many rows have null values\n",
    "telecom_orig.loc[telecom_orig.isnull().any(axis=1)]"
   ]
  },
  {
   "cell_type": "code",
   "execution_count": null,
   "metadata": {},
   "outputs": [],
   "source": []
  },
  {
   "cell_type": "code",
   "execution_count": null,
   "metadata": {},
   "outputs": [],
   "source": [
    "# Columns with more than 70% missing values\n",
    "colmns_missing_data = round(100*(telecom_orig.isnull().sum()/len(telecom_orig.index)), 2)\n",
    "colmns_missing_data[colmns_missing_data >= 70]"
   ]
  },
  {
   "cell_type": "code",
   "execution_count": null,
   "metadata": {},
   "outputs": [],
   "source": [
    "### Treat missing values\n",
    "## Columns used for filtering high-value customers, can't be dropped\n",
    "# total_rech_data_6 \n",
    "# total_rech_data_7 \n",
    "# av_rech_amt_data_6 \n",
    "# av_rech_amt_data_7 \n",
    "\n",
    "### All these columns has more than 70% missing values\n",
    "\n",
    "print(telecom_orig.total_rech_data_6.describe());\n",
    "print(telecom_orig.total_rech_data_7.describe());\n",
    "print(telecom_orig.av_rech_amt_data_6.describe());\n",
    "print(telecom_orig.av_rech_amt_data_7.describe());"
   ]
  },
  {
   "cell_type": "code",
   "execution_count": null,
   "metadata": {},
   "outputs": [],
   "source": [
    "##Correlations between customer data features and customer churn\n",
    "corr = telecom_orig.corr()\n",
    "sns.heatmap(corr, xticklabels=corr.columns.values, yticklabels=corr.columns.values, annot = True, annot_kws={'size':12})\n",
    "heat_map=plt.gcf()\n",
    "heat_map.set_size_inches(180,160)\n",
    "plt.xticks(fontsize=10)\n",
    "plt.yticks(fontsize=10)\n",
    "plt.show()"
   ]
  },
  {
   "cell_type": "code",
   "execution_count": null,
   "metadata": {},
   "outputs": [],
   "source": [
    "## Identify the highest correlated features.\n"
   ]
  },
  {
   "cell_type": "code",
   "execution_count": null,
   "metadata": {},
   "outputs": [],
   "source": [
    "### Let us look at the distribution to find out the value to fill\n",
    "### total_rech_data_6\n",
    "plt.figure(1)\n",
    "fig, ax = plt.subplots(figsize=(10,10))\n",
    "plt.subplot(2,2,1)\n",
    "plt.title(\"total_rech_data_6\")\n",
    "plt.hist(telecom_orig.total_rech_data_6.dropna(),bins=25)\n",
    "\n",
    "# total_rech_data_7\n",
    "plt.subplot(2,2,2)\n",
    "plt.title(\"total_rech_data_7\")\n",
    "plt.hist(telecom_orig.total_rech_data_7.dropna(),bins=25)\n",
    "\n",
    "# av_rech_amt_data_6\n",
    "plt.subplot(2,2,3)\n",
    "plt.title(\"av_rech_amt_data_6\")\n",
    "plt.hist(telecom_orig.av_rech_amt_data_6.dropna(),bins=25)\n",
    "\n",
    "# total_rech_data_7\n",
    "plt.subplot(2,2,4)\n",
    "plt.title(\"av_rech_amt_data_7\")\n",
    "plt.hist(telecom_orig.av_rech_amt_data_7.dropna(),bins=25)"
   ]
  },
  {
   "cell_type": "code",
   "execution_count": null,
   "metadata": {},
   "outputs": [],
   "source": [
    "# The minimum value is 1, and not zero, \n",
    "# The rows with missing values also have the 'dates of recharge' columns \n",
    "# missing -- indicating that no recharge was done in this month. \n",
    "# Thus, missing values can be imputed with 0.\n",
    "\n",
    "telecom_orig.total_rech_data_6.fillna(value=0, inplace=True)\n",
    "telecom_orig.total_rech_data_7.fillna(value=0, inplace=True)\n",
    "telecom_orig.total_rech_data_8.fillna(value=0, inplace=True)\n",
    "telecom_orig.total_rech_data_9.fillna(value=0, inplace=True)\n",
    "\n",
    "telecom_orig.av_rech_amt_data_6.fillna(value=0, inplace=True)\n",
    "telecom_orig.av_rech_amt_data_7.fillna(value=0, inplace=True)\n",
    "telecom_orig.av_rech_amt_data_8.fillna(value=0, inplace=True)\n",
    "telecom_orig.av_rech_amt_data_9.fillna(value=0, inplace=True)"
   ]
  },
  {
   "cell_type": "code",
   "execution_count": null,
   "metadata": {},
   "outputs": [],
   "source": [
    "###Moving on to the next set\n",
    "## Columns with more than 70% missing values\n",
    "colmns_missing_data = round(100*(telecom_orig.isnull().sum()/len(telecom_orig.index)), 2)\n",
    "print(colmns_missing_data[colmns_missing_data >= 70])"
   ]
  },
  {
   "cell_type": "code",
   "execution_count": null,
   "metadata": {},
   "outputs": [],
   "source": [
    "#date_of_last_rech_data,max_rech_data,count_rech_2g,arpu_3g,night_pck_user,fb_user was handled in total_rech_data set to 0 \n",
    "#as there was no recharge\n",
    "#So lets drop this data as this is has redundant and even if we impute some data it can cause some noice to our prediction\n",
    "\n",
    "drop_missing_values_columns = colmns_missing_data[colmns_missing_data > 70].index\n",
    "print(len(drop_missing_values_columns))\n",
    "telecom_orig.drop(drop_missing_values_columns, axis=1, inplace=True)\n",
    "\n",
    "print(telecom_orig.shape)\n",
    "print(telecom.describe)"
   ]
  },
  {
   "cell_type": "markdown",
   "metadata": {},
   "source": [
    "### Step 2: Filter High-Value Customers"
   ]
  },
  {
   "cell_type": "code",
   "execution_count": null,
   "metadata": {},
   "outputs": [],
   "source": [
    "#Define high-value customers as follows: Those who have recharged with an amount more than or equal to X, \n",
    "#where X is the 70th percentile of the average recharge amount in the first two months\n",
    "\n",
    "\n",
    "telecom_orig[\"total_rech_data_amt_6\"] = telecom_orig[\"total_rech_data_6\"]*telecom_orig['av_rech_amt_data_6']\n",
    "telecom_orig[\"total_rech_data_amt_7\"] = telecom_orig[\"total_rech_data_7\"]*telecom_orig['av_rech_amt_data_7']\n",
    "telecom_orig[\"total_rech_data_amt_8\"] = telecom_orig[\"total_rech_data_8\"]*telecom_orig['av_rech_amt_data_8']\n",
    "telecom_orig[\"total_rech_data_amt_9\"] = telecom_orig[\"total_rech_data_9\"]*telecom_orig['av_rech_amt_data_9']\n",
    "\n",
    "\n",
    "avg_rech_amt_6_7 = (telecom_orig[\"total_rech_amt_6\"] + telecom_orig[\"total_rech_data_amt_6\"] + \n",
    "                      telecom_orig[\"total_rech_amt_7\"] + telecom_orig[\"total_rech_data_amt_7\"]) / 2.0\n",
    "amont_70_pc = np.percentile(avg_rech_amt_6_7, 70.0)\n",
    "print('the 70th percentile of the average recharge amount in the first two months (the good phase): ', amont_70_pc)\n",
    "\n",
    "telecom_orig = telecom_orig[avg_rech_amt_6_7 >= amont_70_pc]\n",
    "\n",
    "# We can drop total_rech_data_* and av_rech_amt_data_*\n",
    "drop_data_columns = [\"total_rech_data_6\", \"total_rech_data_7\", \"total_rech_data_8\", \"total_rech_data_9\", \n",
    "                'av_rech_amt_data_6', 'av_rech_amt_data_7', 'av_rech_amt_data_8', 'av_rech_amt_data_9']\n",
    "telecom_orig.drop(drop_data_columns, axis=1, inplace=True)\n",
    "\n",
    "print('Dataframe Shape: ', telecom_orig.shape)"
   ]
  },
  {
   "cell_type": "markdown",
   "metadata": {},
   "source": [
    "### Step3:Identify tag churners "
   ]
  },
  {
   "cell_type": "code",
   "execution_count": null,
   "metadata": {},
   "outputs": [],
   "source": [
    "#Now tag the churned customers (churn=1, else 0) based on the fourth month as follows: Those who have not made any calls (either incoming or outgoing) AND have not used mobile internet even once in the churn phase. The attributes you need to use to tag churners are:\n",
    "#total_ic_mou_9\n",
    "#total_og_mou_9\n",
    "#vol_2g_mb_9\n",
    "#vol_3g_mb_9\n",
    "\n",
    "# Identify Churn\n",
    "X = telecom_orig[\"total_ic_mou_9\"] + telecom_orig[\"total_og_mou_9\"] + telecom_orig[\"vol_2g_mb_9\"] + telecom_orig[\"vol_3g_mb_9\"]\n",
    "telecom_orig[\"churn\"] = np.where(X, 0, 1)\n",
    "telecom_orig[\"churn\"].head(10)\n",
    "print(telecom_orig.columns)"
   ]
  },
  {
   "cell_type": "code",
   "execution_count": null,
   "metadata": {},
   "outputs": [],
   "source": [
    "# Columns to be dropped: all columns ending with \"_9\"\n",
    "drop_fourth_month_columns = [hdr for hdr in list(telecom_orig) if hdr.endswith(\"_9\")]\n",
    "telecom_orig.drop(drop_fourth_month_columns, axis=1, inplace=True)\n",
    "print('Number of columns droped here  = ', len(drop_fourth_month_columns))\n",
    "print('Dataframe Shape: ', telecom_orig.shape);"
   ]
  },
  {
   "cell_type": "code",
   "execution_count": null,
   "metadata": {},
   "outputs": [],
   "source": []
  },
  {
   "cell_type": "code",
   "execution_count": null,
   "metadata": {},
   "outputs": [],
   "source": []
  }
 ],
 "metadata": {
  "kernelspec": {
   "display_name": "Python 3",
   "language": "python",
   "name": "python3"
  },
  "language_info": {
   "codemirror_mode": {
    "name": "ipython",
    "version": 3
   },
   "file_extension": ".py",
   "mimetype": "text/x-python",
   "name": "python",
   "nbconvert_exporter": "python",
   "pygments_lexer": "ipython3",
   "version": "3.6.5"
  }
 },
 "nbformat": 4,
 "nbformat_minor": 2
}
